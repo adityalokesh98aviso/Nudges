{
 "cells": [
  {
   "cell_type": "code",
   "execution_count": 17,
   "metadata": {
    "collapsed": true
   },
   "outputs": [],
   "source": [
    "body_template=\"\"\"\n",
    "<!DOCTYPE html>\n",
    "<html lang=\"en\" xmlns=\"http://www.w3.org/1999/xhtml\" xmlns:v=\"urn:schemas-microsoft-com:vml\" xmlns:o=\"urn:schemas-microsoft-com:office:office\">\n",
    "    <head>\n",
    "        <script src=\"https://kit.fontawesome.com/13244967da.js\"></script>\n",
    "        <link rel=\"stylesheet\" href=\"https://cdnjs.cloudflare.com/ajax/libs/font-awesome/4.7.0/css/font-awesome.min.css\" />\n",
    "        <meta charset=\"utf-8\" />\n",
    "        <!-- utf-8 works for most cases -->\n",
    "        <meta name=\"viewport\" content=\"width=device-width\" />\n",
    "        <!-- Forcing initial-scale shouldn\\'t be necessary -->\n",
    "        <meta http-equiv=\"X-UA-Compatible\" content=\"IE=edge\" />\n",
    "        <!-- Use the latest (edge) version of IE rendering engine -->\n",
    "        <meta name=\"x-apple-disable-message-reformatting\" />\n",
    "        <!-- Disable auto-scale in iOS 10 Mail entirely -->\n",
    "        <meta name=\"format-detection\" content=\"telephone=no,address=no,email=no,date=no,url=no\" />\n",
    "        <!-- Tell iOS not to automatically link certain text strings. -->\n",
    "        <title></title>\n",
    "        <!-- The title tag shows in email notifications, like Android 4.4. -->\n",
    "        <!-- Web Font / @font-face : BEGIN -->\n",
    "        <!-- NOTE: If web fonts are not required, lines 10 - 27 can be safely removed. -->\n",
    "        <!-- Desktop Outlook chokes on web font references and defaults to Times New Roman, so we force a safe fallback font. -->\n",
    "        <!--[if mso]>\n",
    "            <style>\n",
    "                * {\n",
    "                    font-family: \"Open Sans\", sans-serif !important;\n",
    "                }\n",
    "            </style>\n",
    "        <![endif]-->\n",
    "        <!-- CSS Reset : BEGIN -->\n",
    "        <style>\n",
    "            /* What it does: Remove spaces around the email design added by some email clients. */ /* Beware: It can remove the padding / margin and add a background color to the compose a reply window. */\n",
    "            html,\n",
    "            body {\n",
    "                margin: 0 !important;\n",
    "                padding: 0 !important;\n",
    "                height: 100% !important;\n",
    "                width: 100% !important;\n",
    "            } /* What it does: Stops email clients resizing small text. */\n",
    "            * {\n",
    "                -ms-text-size-adjust: 100%;\n",
    "                -webkit-text-size-adjust: 100%;\n",
    "            } /* What it does: Centers email on Android 4.4 */\n",
    "            div[style*=\"margin: 16px 0\"] {\n",
    "                margin: 0 !important;\n",
    "            } /* What it does: Stops Outlook from adding extra spacing to tables. */\n",
    "            table,\n",
    "            td {\n",
    "                mso-table-lspace: 0pt !important;\n",
    "                mso-table-rspace: 0pt !important;\n",
    "            } /* What it does: Fixes webkit padding issue. */\n",
    "            table {\n",
    "                border-spacing: 0 !important;\n",
    "                border-collapse: collapse !important;\n",
    "                table-layout: fixed !important;\n",
    "                margin: 0 auto !important;\n",
    "            } /* What it does: Uses a better rendering method when resizing images in IE. */\n",
    "            img {\n",
    "                -ms-interpolation-mode: bicubic;\n",
    "            } /* What it does: Prevents Windows 10 Mail from underlining links despite inline CSS. Styles for underlined links should be inline. */\n",
    "            a {\n",
    "                text-decoration: none;\n",
    "            } /* What it does: A work-around for email clients meddling in triggered links. */\n",
    "            a[x-apple-data-detectors],  /* iOS */     .unstyle-auto-detected-links a,     .aBn {\n",
    "                border-bottom: 0 !important;\n",
    "                cursor: default !important;\n",
    "                color: inherit !important;\n",
    "                text-decoration: none !important;\n",
    "                font-size: inherit !important;\n",
    "                font-family: inherit !important;\n",
    "                font-weight: inherit !important;\n",
    "                line-height: inherit !important;\n",
    "            } /* What it does: Prevents Gmail from displaying a download button on large, non-linked images. */\n",
    "            .a6S {\n",
    "                display: none !important;\n",
    "                opacity: 0.01 !important;\n",
    "            } /* What it does: Prevents Gmail from changing the text color in conversation threads. */\n",
    "            .im {\n",
    "                color: inherit !important;\n",
    "            } /* If the above doesn\\'t work, add a .g-img class to any image in question. */\n",
    "            img.g-img + div {\n",
    "                display: none !important;\n",
    "            } /* iPhone 4, 4S, 5, 5S, 5C, and 5SE */\n",
    "            @media only screen and (min-device-width: 320px) and (max-device-width: 374px) {\n",
    "                u ~ div .email-container {\n",
    "                    min-width: 320px !important;\n",
    "                }\n",
    "                .body-wrapper {\n",
    "                    padding: 1%;\n",
    "                }\n",
    "                .apple {\n",
    "                    margin: 10px 15px !important;\n",
    "                }\n",
    "            } /* iPhone 6, 6S, 7, 8, and X */\n",
    "            @media only screen and (min-device-width: 375px) and (max-device-width: 413px) {\n",
    "                u ~ div .email-container {\n",
    "                    min-width: 375px !important;\n",
    "                }\n",
    "                .body-wrapper {\n",
    "                    padding: 1%;\n",
    "                }\n",
    "                .apple {\n",
    "                    margin: 10px 25px !important;\n",
    "                }\n",
    "            } /* iPhone 6+, 7+, and 8+ */\n",
    "            @media only screen and (min-device-width: 414px) {\n",
    "                u ~ div .email-container {\n",
    "                    min-width: 414px !important;\n",
    "                }\n",
    "                .apple {\n",
    "                    margin: 10px 25px !important;\n",
    "                }\n",
    "            }\n",
    "        </style>\n",
    "        <!-- What it does: Makes background images in 72ppi Outlook render at correct size. -->\n",
    "        <!--[if gte mso 9]>\n",
    "            <xml>\n",
    "                <o:OfficeDocumentSettings> <o:AllowPNG /> <o:PixelsPerInch>96</o:PixelsPerInch> </o:OfficeDocumentSettings>\n",
    "            </xml>\n",
    "        <![endif]-->\n",
    "        <!-- Progressive Enhancements : BEGIN -->\n",
    "        <style>\n",
    "            /* Media Queries */\n",
    "            @media screen and (max-width: 600px) {\n",
    "                /* What it does: Adjust typography on small screens to improve readability */\n",
    "                .email-container p {\n",
    "                    /*             font-size: 17px !important;*/\n",
    "                }\n",
    "            } /* custom css from here */\n",
    "            body {\n",
    "                font-family: \"Open Sans\", sans-serif;\n",
    "            }\n",
    "            .block_wrapper {\n",
    "                border: 1px solid #d4d4d4;\n",
    "                border-radius: 5px;\n",
    "                margin: 10px 5% 10px;\n",
    "                padding-bottom: 15px;\n",
    "            }\n",
    "            .store-logo {\n",
    "                margin: 10px;\n",
    "                display: inline-block;\n",
    "            }\n",
    "            .section-heading {\n",
    "                color: #757575;\n",
    "                font-size: 10px;\n",
    "                padding: 5px;\n",
    "            }\n",
    "            .section-content {\n",
    "                color: #424242;\n",
    "                font-size: 14px;\n",
    "                padding: 5px;\n",
    "            }\n",
    "            @media only screen and (width >= 768px) {\n",
    "                .body-wrapper {\n",
    "                    padding: 6%;\n",
    "                }\n",
    "                .apple {\n",
    "                    margin: 10px 25px;\n",
    "                }\n",
    "            }\n",
    "        </style>\n",
    "        <!-- Progressive Enhancements : END -->\n",
    "    </head>\n",
    "    <!--       The email background color (#222222) is defined in three places:       1. body tag: for most email clients       2. center tag: for Gmail and Inbox mobile apps and web versions of Gmail, GSuite, Inbox, Yahoo, AOL, Libero, Comcast, freenet, Mail.ru, Orange.fr       3. mso conditional: For Windows 10 Mail  -->\n",
    "    <body width=\"100%\" style=\"margin: 0; padding: 0 !important; mso-line-height-rule: exactly; background-color: #ffffff;\">\n",
    "        <center style=\"width: 100%; background-color: #ffffff;\">\n",
    "            <!--[if mso | IE]>        <table role=\"presentation\" border=\"0\" cellpadding=\"0\" cellspacing=\"0\" width=\"100%\" style=\"background-color: #ffffff;\">        <tr>        <td>      <![endif]-->\n",
    "            <!--           Set the email width. Defined in two places:           1. max-width for all clients except Desktop Windows Outlook, allowing the email to squish on narrow but never go wider than 600px.           2. MSO tags for Desktop Windows Outlook enforce a 600px width.      -->\n",
    "            <div style=\"max-width: 560px; min-width: 375px; margin: 0 auto; background-color: #f0f2f7;\" class=\"email-container\">\n",
    "                <!--[if mso]>          <table align=\"center\" role=\"presentation\" cellspacing=\"0\" cellpadding=\"0\" border=\"0\" width=\"600\">          <tr>          <td>        <![endif]-->\n",
    "                <!-- Email Header : BEGIN -->\n",
    "                <table align=\"center\" role=\"presentation\" cellspacing=\"0\" cellpadding=\"0\" border=\"0\" width=\"100%\" style=\"margin: auto;\">\n",
    "                    <tr style=\"background-color: #151b42;\">\n",
    "                        <td style=\"padding: 20px 0; text-align: center;\">\n",
    "                            <table role=\"presentation\" cellspacing=\"0\" cellpadding=\"0\" width=\"100%\">\n",
    "                                <tr>\n",
    "                                    <td>\n",
    "                                        <div style=\"padding: 20px;\">\n",
    "                                            <a href=\"https://aviso.com\" rel=\"noreferrer\" target=\"_blank\"> <img src=\"https://aviso-email-images.s3.amazonaws.com/aviso_logos/aviso_red.png\" /> </a>\n",
    "                                        </div>\n",
    "                                    </td>\n",
    "                                    <td style=\"color: #ffffff;\">\n",
    "                                        <img src=\"http://aviso-email-images.s3.amazonaws.com/signal.png\" style=\"width: 37px; height: 24px; display: inline-block; margin-top: 6px;\" />\n",
    "                                        <span style=\"font-size: 20px !important; font-weight: bold; display: inline-block; margin-bottom: 5px; margin-left: 10px; vertical-align: bottom;\">Pipeline Status</span>\n",
    "                                    </td>\n",
    "                                </tr>\n",
    "                            </table>\n",
    "                        </td>\n",
    "                    </tr>\n",
    "                </table>\n",
    "                <!-- Email Header : END -->\n",
    "                <!-- Email Body : BEGIN -->\n",
    "                <div style=\"padding: 3% 5%;\">\n",
    "                    <table align=\"center\" role=\"presentation\" cellspacing=\"0\" cellpadding=\"0\" border=\"0\" width=\"100%\" style=\"margin: auto;\">\n",
    "                        <tbody style=\"background-color: #f0f2f7; border: 13px solid transparent;\">\n",
    "                            <!-- Welcome user : BEGIN -->\n",
    "                            <tr>\n",
    "                                <td>\n",
    "                                    <div style=\"padding: 0 25px;\">\n",
    "                                        <h3 style=\"font-size: 20px; margin: 0px;\">Hi {{user_name}},</h3>\n",
    "                                        <p style=\"font-size: 16px; font-weight: 200; margin-bottom: 10px;\">\n",
    "                                            {% if forecast_dip>0%}Your Aviso Forecast Increased by {{forecast_dip}}% in the past week:{%else%}Your Aviso Forecast Decreased by {{forecast_dip}}% in the past week: {%endif%}\n",
    "                                        </p>\n",
    "                                    </div>\n",
    "                                </td>\n",
    "                            </tr>\n",
    "                            <!-- Welcome user : END -->\n",
    "                            <!-- Content block : BEGIN -->\n",
    "                            <tr>\n",
    "                                <td>\n",
    "                                    <div style=\"width: 492px !important; height: 368px !important ; border-radius: 5px; border: 1px solid #dde0eb; background: white; padding: 0px 0px 46px 0px !important;\">\n",
    "                                        <table align=\"center\" role=\"presentation\" cellspacing=\"0\" cellpadding=\"0\" border=\"0\" width=\"100%\">\n",
    "                                          <col width=\"80%\">\n",
    "                                            <tr>\n",
    "                                                <td><p style=\"font-size: 18px; color: #404255; padding-left: 34px; padding-top: 43px; margin: 0px;\">Current Aviso AI Forecast:</p></td>\n",
    "                                                <td><p style=\"font-size: 16px; color: #232742; font-weight: 800; font-size: 20px; padding: 43px 41px 0px 0px; margin: 0px; text-align: right;\">{{present_day}}</p></td>\n",
    "                                            </tr>\n",
    "                                            <tr>\n",
    "                                                <td><p style=\"font-size: 18px; color: #404255; padding-left: 34px; padding-top: 36px; margin: 0px;width:60%;\">Previous Aviso AI Forecast:</p></td>\n",
    "                                                <td><p style=\"font-size: 16px; color: #232742; font-weight: 800; font-size: 20px; margin: 0px; padding: 36px 41px 0px 0px; text-align: right;\">{{previous_day}}</p></td>\n",
    "                                            </tr>\n",
    "                                        </table>\n",
    "                                        <table>\n",
    "                                            <tr>\n",
    "                                                <td style=\"width: 492px; height: 28px;\">&nbsp;</td>\n",
    "                                            </tr>\n",
    "                                        </table>\n",
    "                                        <div style=\"width: 85%; border-bottom: 1px solid #757575; margin: 0 auto;\"></div>\n",
    "                                        <table>\n",
    "                                            <tr>\n",
    "                                                <td style=\"width: 492px; height: 30px;\">&nbsp;</td>\n",
    "                                            </tr>\n",
    "                                            <tr>\n",
    "                                                <td align=\"center\" style=\"height: 20px; color: #404255; font-weight: 600;\">PERCENTAGE CHANGE</td>\n",
    "                                            </tr>\n",
    "                                            <tr>\n",
    "                                                <td align=\"center\" style=\"height: 45px; color: #d60651; font-size: 33px; font-weight: 550; padding: 5px 0px !important;\">{{forecast_dip}}%</td>\n",
    "                                            </tr>\n",
    "                                            <tr>\n",
    "                                                <td style=\"height: 23px;\">&nbsp;</td>\n",
    "                                            </tr>\n",
    "                                            <tr>\n",
    "                                              <table align=\"center\" role=\"presentation\" cellspacing=\"0\" cellpadding=\"0\" border=\"0\" width=\"100%\">\n",
    "                                                  <tr>\n",
    "                                                    <td>\n",
    "                                                        <a\n",
    "                                                            href=\"{{trend_link}}\"\n",
    "                                                            style=\"\n",
    "                                                                background: #151b42;\n",
    "                                                                height: 5px !important;\n",
    "                                                                width: 155px !important;\n",
    "                                                                border: 1px solid #151b42;\n",
    "                                                                font-family: Open Sans Regular, sans-serif;\n",
    "                                                                font-size: 11pt;\n",
    "                                                                text-decoration: none;\n",
    "                                                                padding: 13px 17px !important;\n",
    "                                                                color: #ffffff;\n",
    "                                                                display: block;\n",
    "                                                                border-radius: 4px;\n",
    "                                                                text-align: center;\n",
    "                                                                margin-left: 30px;\n",
    "                                                                line-height: 5px;\n",
    "                                                            \"\n",
    "                                                        >\n",
    "                                                            View Trend\n",
    "                                                        </a>\n",
    "                                                    </td>\n",
    "                                                    <td>\n",
    "                                                        <a\n",
    "                                                            href=\"{{dropped_deals}}\"\n",
    "                                                            style=\"\n",
    "                                                                background: #151b42;\n",
    "                                                                height: 5px !important;\n",
    "                                                                width: 155px !important;\n",
    "                                                                border: 1px solid #151b42;\n",
    "                                                                font-family: Open Sans Regular, sans-serif;\n",
    "                                                                font-size: 11pt;\n",
    "                                                                text-decoration: none;\n",
    "                                                                padding: 13px 17px !important;\n",
    "                                                                color: #ffffff;\n",
    "                                                                display: block;\n",
    "                                                                border-radius: 4px;\n",
    "                                                                text-align: center;\n",
    "                                                                width: 81%;\n",
    "                                                                line-height:5px;\n",
    "                                                            \"\n",
    "                                                        >\n",
    "                                                            View Deals\n",
    "                                                        </a>\n",
    "                                                    </td>\n",
    "                                                  </tr>\n",
    "                                              </table>\n",
    "\n",
    "\n",
    "                                            </tr>\n",
    "                                        </table>\n",
    "                                    </div>\n",
    "                                </td>\n",
    "                            </tr>\n",
    "                            <!-- <div style=\"width: 90%; border-bottom: 1px solid #757575; margin: 10px auto;\"></div> -->\n",
    "                            <!-- <div style=\"font-size: 14px; color: #404255; width: 84%; margin: 0 auto;\">                      <p style=\"color: #151B42;\"><b>Deal Insights:</b></p>                      <table role=\"presentation\" cellspacing=\"0\" cellpadding=\"0\" border=\"0\" width=\"100%\" style=\"margin: auto;\">                        <tr>                          <td style=\"width: 8%;\">                            <img src=\"https://aviso-email-images.s3.amazonaws.com/chevron-circle-up-solid 2.png\" width=\"15.5px\" height=\"15.5px\" style=\"display: inline-block; margin-top: 2px;\" />                          </td>                          <td>                            <p style=\"margin-left: 5%;\">This is an insight</p>                              </td>                            </tr>                      </table>                    </div> -->\n",
    "                            <!-- Content block : END -->\n",
    "                            <!-- Clear Spacer : BEGIN -->\n",
    "                            <tr>\n",
    "                                <td aria-hidden=\"true\" height=\"40\" style=\"font-size: 0px; line-height: 0px;\">&nbsp;</td>\n",
    "                            </tr>\n",
    "                            <!-- Clear Spacer : END -->\n",
    "                            <!-- 1 Column Text : BEGIN -->\n",
    "                            <tr>\n",
    "                                <td>\n",
    "                                    <p style=\"color: #404255; font-size: 14px; line-height: 20.9px; text-align: center; max-width: 360px; width: 251px; margin: 0 auto;\">Keep up-to-date with you deals on iPhone or Android with Aviso Go.</p>\n",
    "                                </td>\n",
    "                            </tr>\n",
    "                            <tr>\n",
    "                                <td style=\"background-color: #f0f2f7;\">\n",
    "                                    <div style=\"max-width: 360px; margin: 0 auto;\">\n",
    "                                        <a href=\"https://apps.apple.com/us/app/avisogo/id1250216779\" style=\"margin: 0px 7%;\">\n",
    "                                            <img src=\"https://aviso-email-images.s3.amazonaws.com/aviso_logos/Apple-AppStore_download.png\" style=\"40px;\" />\n",
    "                                        </a>\n",
    "                                        <a href=\"https://play.google.com/store/apps/details?id=com.aviso.avisogo\" style=\"margin: 10px; display: inline-block;\">\n",
    "                                            <img src=\"https://aviso-email-images.s3.amazonaws.com/aviso_logos/Android-AppStore_download.png\" />\n",
    "                                        </a>\n",
    "                                    </div>\n",
    "                                </td>\n",
    "                            </tr>\n",
    "                            <!-- 1 Column Text : END -->\n",
    "                        </tbody>\n",
    "                    </table>\n",
    "\n",
    "                <!-- Email Body : END -->\n",
    "                <!-- Email Footer : BEGIN -->\n",
    "                <table align=\"center\" role=\"presentation\" cellspacing=\"0\" cellpadding=\"0\" border=\"0\" width=\"100%\" style=\"margin: auto;\">\n",
    "                    <tr>\n",
    "                        <td><div style=\"width: 85%; border-bottom: 1px solid #c7cbd6; margin: 0 auto;\"></div></td>\n",
    "                    </tr>\n",
    "                    <tr>\n",
    "                        <td>\n",
    "                            <div style=\"width: 88%; margin: 0 auto;\">\n",
    "                                <table role=\"presentation\" cellspacing=\"0\" cellpadding=\"0\" border=\"0\" width=\"100%\">\n",
    "                                    <tr>\n",
    "                                        <td style=\"widht: 15%; padding: 5%;\"><img src=\"https://aviso-email-images.s3.amazonaws.com/aviso_logos/logo_footer_red.png\" /></td>\n",
    "                                        <td><p style=\"color: #757575; font-size: 12px; line-height: 17.9px; text-align: right;\">Copyright &copy; 2020 Aviso AI All rights reserved.</p></td>\n",
    "                                    </tr>\n",
    "                                </table>\n",
    "                            </div>\n",
    "                        </td>\n",
    "                    </tr>\n",
    "                </table>\n",
    "                <!-- Email Footer : END -->\n",
    "                <!--[if mso]>        </td>        </tr>        </table>      <![endif]-->\n",
    "            </div>\n",
    "            <!--[if mso | IE]>        </td>        </tr>        </table>      <![endif]-->\n",
    "        </center>\n",
    "    </body>\n",
    "</html>\n",
    "\"\"\"\n",
    "subject_template = \"Sudden fluctuation in the Forecast spotted again\"\n",
    "is_html = True\n",
    "name = \"forecast_dip_nudge\"\n",
    "optional = [\"\"]"
   ]
  },
  {
   "cell_type": "code",
   "execution_count": 18,
   "metadata": {
    "collapsed": false
   },
   "outputs": [
    {
     "data": {
      "text/plain": [
       "{u'message': u'Template added successfully', u'success': True}"
      ]
     },
     "execution_count": 18,
     "metadata": {},
     "output_type": "execute_result"
    }
   ],
   "source": [
    "noti.api('/notify/api/email_template/', {\"name\": name,\"subject_template\":subject_template, \"body_template\": body_template,\n",
    "                                     \"is_html\": is_html, 'optional':optional, 'action': \"create\"} )"
   ]
  },
  {
   "cell_type": "code",
   "execution_count": 20,
   "metadata": {
    "collapsed": false
   },
   "outputs": [
    {
     "data": {
      "text/plain": [
       "{u'action': u'create', u'success': True}"
      ]
     },
     "execution_count": 20,
     "metadata": {},
     "output_type": "execute_result"
    }
   ],
   "source": [
    "noti.api('/notify/api/notification/', {'action':'create', \n",
    "                                       'name' : 'forecast_dip_nudge', \n",
    "                                       'template_name':{'email': 'forecast_dip_nudge'}, \n",
    "                                       'template_data':{\n",
    "                                        \"email\": ['user_name', 'present_day', 'previous_day', 'forecast_dip','dropped_deals', 'trend_link','opens_tracker']\n",
    "                                        },\n",
    "                                    \"track_urls\":[]\n",
    "                                      })"
   ]
  },
  {
   "cell_type": "code",
   "execution_count": 2,
   "metadata": {
    "collapsed": false
   },
   "outputs": [
    {
     "data": {
      "text/plain": [
       "{u'action': u'delete', u'count': 1, u'success': True}"
      ]
     },
     "execution_count": 2,
     "metadata": {},
     "output_type": "execute_result"
    }
   ],
   "source": [
    "noti.api('/notify/api/notification/',{'action':'delete', 'name' :'forecast_dip_nudge'})"
   ]
  },
  {
   "cell_type": "code",
   "execution_count": 4,
   "metadata": {
    "collapsed": true
   },
   "outputs": [],
   "source": [
    "name = \"forecast_dip_nudge\""
   ]
  },
  {
   "cell_type": "code",
   "execution_count": 9,
   "metadata": {
    "collapsed": false
   },
   "outputs": [
    {
     "data": {
      "text/plain": [
       "{u'message': u'Template added successfully', u'success': True}"
      ]
     },
     "execution_count": 9,
     "metadata": {},
     "output_type": "execute_result"
    }
   ],
   "source": [
    "noti.api('/notify/api/email_template/', {\"name\":name ,\"subject_template\":subject_template, \"body_template\": body_template,\n",
    "                                     \"is_html\": is_html, 'optional':optional, 'action': \"create\"} )"
   ]
  },
  {
   "cell_type": "code",
   "execution_count": 4,
   "metadata": {
    "collapsed": false
   },
   "outputs": [
    {
     "name": "stdout",
     "output_type": "stream",
     "text": [
      "2021-Jan-05 13:49:16 - INFO - \u001b[32m\u001b[32mStarting new HTTPS connection (1): notification-qa.aviso.com\u001b[0m\u001b[0m\n",
      "2021-Jan-05 13:49:17 - INFO - \u001b[32m\u001b[32mStarting new HTTPS connection (1): notification-qa.aviso.com\u001b[0m\u001b[0m\n",
      "2021-Jan-05 13:49:19 - INFO - \u001b[32m\u001b[32mNo logged in session. Login first\u001b[0m\u001b[0m\n",
      "password?········\n"
     ]
    },
    {
     "data": {
      "text/plain": [
       "Connected to url: https://notification-qa.aviso.com tenant: administrative.domain"
      ]
     },
     "execution_count": 4,
     "metadata": {},
     "output_type": "execute_result"
    }
   ],
   "source": [
    "import avisosdk\n",
    "noti = avisosdk.connect_sdk(\"https://notification-qa.aviso.com\")\n",
    "noti.login(username='aditya@administrative.domain')"
   ]
  },
  {
   "cell_type": "code",
   "execution_count": 22,
   "metadata": {
    "collapsed": false
   },
   "outputs": [
    {
     "data": {
      "text/plain": [
       "{u'message': u'Event Published successfully', u'success': True}"
      ]
     },
     "execution_count": 22,
     "metadata": {},
     "output_type": "execute_result"
    }
   ],
   "source": [
    "event_name ='forecast_dip_nudge'\n",
    "payload ={\n",
    "     'user_name':'aditya lokesh',\n",
    "    'tenant_name':'aditya',\n",
    "    'nudge_name':'forecast',\n",
    "    'test_mode':False,\n",
    "    \"user_name\":\"pace changed\",\n",
    "    \"present_day\":23,\n",
    "    \"previous_day\":24,\n",
    "    \"forecast_dip\":34,\n",
    "    \"ratio\":23,\n",
    "    'dropped_deals':'def.com',\n",
    "    \"trend_link\":\"abc.com\",\n",
    "\"opens_tracker\":\"abc.com\",\n",
    "\"recipients\": \"aditya.lokesh@aviso.com\",\n",
    "\"skip_header_footer\": True,\n",
    "    }\n",
    "noti.api('/notify/api/test_notification', {'event_name': event_name, 'payload': payload})"
   ]
  },
  {
   "cell_type": "code",
   "execution_count": null,
   "metadata": {
    "collapsed": true
   },
   "outputs": [],
   "source": []
  }
 ],
 "metadata": {
  "kernelspec": {
   "display_name": "Python 2",
   "language": "python",
   "name": "python2"
  },
  "language_info": {
   "codemirror_mode": {
    "name": "ipython",
    "version": 2
   },
   "file_extension": ".py",
   "mimetype": "text/x-python",
   "name": "python",
   "nbconvert_exporter": "python",
   "pygments_lexer": "ipython2",
   "version": "2.7.16"
  }
 },
 "nbformat": 4,
 "nbformat_minor": 0
}
